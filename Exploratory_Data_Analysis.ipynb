{
  "nbformat": 4,
  "nbformat_minor": 0,
  "metadata": {
    "colab": {
      "private_outputs": true,
      "provenance": [],
      "collapsed_sections": [
        "PVzmfK_Ep1ck",
        "gIfDvo9L0UH2"
      ],
      "cell_execution_strategy": "setup",
      "include_colab_link": true
    },
    "kernelspec": {
      "name": "python3",
      "display_name": "Python 3"
    },
    "language_info": {
      "name": "python"
    }
  },
  "cells": [
    {
      "cell_type": "markdown",
      "metadata": {
        "id": "view-in-github",
        "colab_type": "text"
      },
      "source": [
        "<a href=\"https://colab.research.google.com/github/B-7792/Exploratory-Data-Analysis/blob/main/Exploratory_Data_Analysis.ipynb\" target=\"_parent\"><img src=\"https://colab.research.google.com/assets/colab-badge.svg\" alt=\"Open In Colab\"/></a>"
      ]
    },
    {
      "cell_type": "markdown",
      "source": [
        "# **Project Name**    -\n",
        "#**Exploratory Data Analysis of Google Play Store Apps**\n"
      ],
      "metadata": {
        "id": "vncDsAP0Gaoa"
      }
    },
    {
      "cell_type": "markdown",
      "source": [
        "##### **Project Type**    - Data Analysis / Exploratory Data Analysis (EDA)\n",
        "##### **Contribution**    - Individual\n",
        "##### **Team Member 1** - *Bhushan Mohod*\n"
      ],
      "metadata": {
        "id": "beRrZCGUAJYm"
      }
    },
    {
      "cell_type": "markdown",
      "source": [
        "# **Project Summary -**\n",
        "* Google Play Store Apps Data: Contains various attributes for each app such as category, rating, size, installs, and price.\n",
        "\n",
        "* Google Play Store User Reviews Data: Contains user reviews with attributes such as review ID, username, content, score, thumbs up count, and sentiment."
      ],
      "metadata": {
        "id": "FJNUwmbgGyua"
      }
    },
    {
      "cell_type": "markdown",
      "source": [
        "Understanding Your Dataset\n",
        "To gain insights into your dataset, it’s essential to systematically analyze its structure and content. Here’s a summary of the key steps you should take:\n",
        "\n",
        "1. Dataset Columns\n",
        "The first step is to understand the columns present in your dataset. Columns represent the features or attributes of the dataset and can include various types of data, such as numerical values, categorical labels, or text.\n",
        "2. Dataset Describe\n",
        "Next, use the describe() method to generate a statistical summary of the dataset. This method provides insights into the distribution and range of numerical columns.\n",
        "3. Variables Description\n",
        "Understanding what each column represents is crucial. This involves detailing the column names, data types, and descriptions based on the dataset's context.\n",
        "4. Check Unique Values\n",
        "Finally, examining the unique values in each column can reveal the diversity and range of data. This step is crucial for identifying categorical data and understanding the scope of numerical data.\n",
        "\n",
        "\n",
        "By performing these steps, you gain a comprehensive understanding of your dataset:\n",
        "\n",
        "Dataset Columns: You identify all the columns and their names, which form the structure of your dataset.\n",
        "Dataset Describe: Provides a statistical summary for numerical columns and frequency counts for categorical columns, revealing insights into the data distribution and range.\n",
        "Variables Description: Offers context for each column, describing what the data represents and its significance.\n",
        "Check Unique Values: Highlights the distinct values in each column, which helps in understanding data variability and identifying potential anomalies.\n",
        "This approach ensures that you have a solid grasp of your dataset’s content and structure, laying the groundwork for effective data cleaning, feature engineering, and analysis."
      ],
      "metadata": {
        "id": "F6v_1wHtG2nS"
      }
    },
    {
      "cell_type": "markdown",
      "source": [
        "# **GitHub Link -**"
      ],
      "metadata": {
        "id": "w6K7xa23Elo4"
      }
    },
    {
      "cell_type": "markdown",
      "source": [
        "Provide your GitHub Link here.\n",
        "\n",
        "https://github.com/B-7792/Exploratory-Data-Analysis\n",
        "\n",
        "> Add blockquote\n",
        "\n",
        "git clone https://github.com/B-7792/Exploratory-Data-Analysis.git\n",
        "\n",
        "\n",
        "\n"
      ],
      "metadata": {
        "id": "h1o69JH3Eqqn"
      }
    },
    {
      "cell_type": "markdown",
      "source": [
        "# **Problem Statement**\n",
        "\n"
      ],
      "metadata": {
        "id": "yQaldy8SH6Dl"
      }
    },
    {
      "cell_type": "markdown",
      "source": [
        "This project aims to empower app developers with the insights they need to succeed in the competitive landscape of the Google Play Store. By conducting a thorough exploratory data analysis of app attributes and user reviews, we seek to uncover the key factors that drive app engagement and success, providing a clear pathway for developers to optimize their apps and achieve greater user satisfaction"
      ],
      "metadata": {
        "id": "DpeJGUA3kjGy"
      }
    },
    {
      "cell_type": "markdown",
      "source": [
        "#### **Define Your Business Objective?**"
      ],
      "metadata": {
        "id": "PH-0ReGfmX4f"
      }
    },
    {
      "cell_type": "markdown",
      "source": [
        "To perform an exploratory data analysis (EDA) of the Google Play Store apps data and user reviews to uncover key factors that influence app engagement and success. The goal is to provide actionable insights that app developers can use to optimize their apps for better performance and user satisfaction"
      ],
      "metadata": {
        "id": "PhDvGCAqmjP1"
      }
    },
    {
      "cell_type": "markdown",
      "source": [
        "# **General Guidelines** : -  "
      ],
      "metadata": {
        "id": "mDgbUHAGgjLW"
      }
    },
    {
      "cell_type": "markdown",
      "source": [
        "1.   Well-structured, formatted, and commented code is required.\n",
        "2.   Exception Handling, Production Grade Code & Deployment Ready Code will be a plus. Those students will be awarded some additional credits.\n",
        "     \n",
        "     The additional credits will have advantages over other students during Star Student selection.\n",
        "       \n",
        "             [ Note: - Deployment Ready Code is defined as, the whole .ipynb notebook should be executable in one go\n",
        "                       without a single error logged. ]\n",
        "\n",
        "3.   Each and every logic should have proper comments.\n",
        "4. You may add as many number of charts you want. Make Sure for each and every chart the following format should be answered.\n",
        "        \n",
        "\n",
        "```\n",
        "# Chart visualization code\n",
        "```\n",
        "            \n",
        "\n",
        "*   Why did you pick the specific chart?\n",
        "*   What is/are the insight(s) found from the chart?\n",
        "* Will the gained insights help creating a positive business impact?\n",
        "Are there any insights that lead to negative growth? Justify with specific reason.\n",
        "\n",
        "5. You have to create at least 20 logical & meaningful charts having important insights.\n",
        "\n",
        "\n",
        "[ Hints : - Do the Vizualization in  a structured way while following \"UBM\" Rule.\n",
        "\n",
        "U - Univariate Analysis,\n",
        "\n",
        "B - Bivariate Analysis (Numerical - Categorical, Numerical - Numerical, Categorical - Categorical)\n",
        "\n",
        "M - Multivariate Analysis\n",
        " ]\n",
        "\n",
        "\n",
        "\n"
      ],
      "metadata": {
        "id": "ZrxVaUj-hHfC"
      }
    },
    {
      "cell_type": "markdown",
      "source": [
        "Well-structured, formatted, and commented code is required.\n",
        "Exception Handling, Production Grade Code & Deployment Ready Code will be a plus.\n",
        "The notebook should be executable in one go without any errors.\n",
        "Each and every logic should have proper comments.\n",
        "Charts and Insights:\n",
        "Each chart must address:\n",
        "Why the specific chart was chosen.\n",
        "Insights gained from the chart.\n",
        "Potential business impact of the insights.\n",
        "Any insights that may indicate negative growth, with justifications.\n",
        "Analysis Plan:\n",
        "Univariate Analysis (U):\n",
        "\n",
        "App Ratings: Distribution of app ratings.\n",
        "App Sizes: Distribution of app sizes.\n",
        "Number of Installs: Distribution of installs.\n",
        "App Prices: Distribution of app prices.\n",
        "Bivariate Analysis (B):\n",
        "\n",
        "Ratings by Category: Average rating by app category.\n",
        "Installs vs. Ratings: Relationship between number of installs and ratings.\n",
        "Price vs. Ratings: Relationship between app price and ratings.\n",
        "Sentiment by Ratings: Sentiment polarity versus app ratings.\n",
        "Multivariate Analysis (M):\n",
        "\n",
        "Ratings by Category and Sentiment: How category and sentiment together affect app ratings.\n",
        "Installs, Size, and Ratings: Relationship between app size, installs, and ratings.\n",
        "Price, Category, and Ratings: Impact of price and category on app ratings\n",
        "\n",
        "# Data Preprocessing:"
      ],
      "metadata": {
        "id": "2bgCcpmb_q9q"
      }
    },
    {
      "cell_type": "code",
      "source": [
        "import pandas as pd\n",
        "import numpy as np\n",
        "import matplotlib.pyplot as plt\n",
        "import seaborn as sns\n"
      ],
      "metadata": {
        "id": "o3USnz2LRxrS"
      },
      "execution_count": null,
      "outputs": []
    },
    {
      "cell_type": "code",
      "source": [
        "from google.colab import files\n",
        "\n",
        "uploaded = files.upload()\n",
        "import pandas as pd\n",
        "\n",
        "# Assume the file name is 'Play Store Data.csv'\n",
        "df = pd.read_csv('Play Store Data.csv')\n",
        "print(df.head())\n"
      ],
      "metadata": {
        "id": "kPHip2lTBnr1"
      },
      "execution_count": null,
      "outputs": []
    },
    {
      "cell_type": "code",
      "source": [
        "# Import necessary libraries\n",
        "import pandas as pd\n",
        "import matplotlib.pyplot as plt\n",
        "import seaborn as sns\n",
        "\n",
        "# Step 1: Upload the CSV file\n",
        "from google.colab import files\n",
        "uploaded = files.upload()\n",
        "\n",
        "# Step 2: Verify the uploaded file\n",
        "!ls\n",
        "\n",
        "# Step 3: Read the CSV file\n",
        "reviews = pd.read_csv('User Reviews.csv')\n",
        "\n",
        "# Display the first few rows of the reviews DataFrame\n",
        "reviews.head()\n"
      ],
      "metadata": {
        "id": "78Hz_YNSCUht"
      },
      "execution_count": null,
      "outputs": []
    },
    {
      "cell_type": "markdown",
      "source": [
        "# Data cleanning :"
      ],
      "metadata": {
        "id": "Kb5DtRB4WHTZ"
      }
    },
    {
      "cell_type": "code",
      "source": [
        "import pandas as pd\n",
        "import matplotlib.pyplot as plt\n",
        "import seaborn as sns\n",
        "\n",
        "# Load datasets\n",
        "apps = pd.read_csv('Play Store Data.csv')\n",
        "reviews = pd.read_csv('User Reviews.csv')\n",
        "\n",
        "# Data cleaning for apps DataFrame\n",
        "apps.dropna(inplace=True)\n",
        "apps['Installs'] = apps['Installs'].str.replace(',', '').str.replace('+', '').astype(int)\n",
        "apps['Price'] = apps['Price'].str.replace('$', '').astype(float)\n",
        "apps['App'] = apps['App'].str.strip().str.lower()\n",
        "apps = apps.drop_duplicates(subset=['App'])\n",
        "\n",
        "# Data cleaning for reviews DataFrame\n",
        "reviews.dropna(subset=['App'], inplace=True)\n",
        "reviews['App'] = reviews['App'].str.strip().str.lower()\n",
        "reviews = reviews.drop_duplicates(subset=['App'])\n",
        "reviews['Sentiment_Polarity'] = pd.to_numeric(reviews['Sentiment_Polarity'], errors='coerce')\n",
        "\n",
        "# Check the alignment of 'App' column\n",
        "common_apps = set(apps['App']).intersection(set(reviews['App']))\n",
        "unique_apps_in_apps = set(apps['App']).difference(set(reviews['App']))\n",
        "unique_apps_in_reviews = set(reviews['App']).difference(set(apps['App']))\n",
        "\n",
        "print(f\"Number of common apps: {len(common_apps)}\")\n",
        "print(f\"Number of unique apps in apps dataset: {len(unique_apps_in_apps)}\")\n",
        "print(f\"Number of unique apps in reviews dataset: {len(unique_apps_in_reviews)}\")\n",
        "\n",
        "# Sentiment Analysis and Merge\n",
        "avg_sentiment = reviews.groupby('App')['Sentiment_Polarity'].mean().reset_index()\n",
        "avg_sentiment = avg_sentiment.merge(apps[['App', 'Category']], on='App', how='inner')\n",
        "\n",
        "# Visualization\n",
        "plt.figure(figsize=(12, 8))\n",
        "sns.boxplot(x='Sentiment_Polarity', y='Category', data=avg_sentiment)\n",
        "plt.title('Average Sentiment Polarity by App Category')\n",
        "plt.xlabel('Sentiment Polarity')\n",
        "plt.ylabel('Category')\n",
        "plt.show()\n"
      ],
      "metadata": {
        "id": "W3HZJpMGVnB8"
      },
      "execution_count": null,
      "outputs": []
    },
    {
      "cell_type": "markdown",
      "source": [
        "# Data Distribution:"
      ],
      "metadata": {
        "id": "2N8jKEVIWS8i"
      }
    },
    {
      "cell_type": "code",
      "source": [
        "# Display basic information about the reviews DataFrame\n",
        "reviews.info()\n",
        "\n",
        "# Check for missing values\n",
        "reviews.isnull().sum()\n",
        "\n",
        "# Drop rows with missing values (if necessary)\n",
        "reviews.dropna(inplace=True)\n",
        "\n",
        "# Sentiment distribution of user reviews\n",
        "plt.figure(figsize=(10, 6))\n",
        "sns.countplot(x='Sentiment', data=reviews)\n",
        "plt.title('Sentiment Distribution of User Reviews')\n",
        "plt.xlabel('Sentiment')\n",
        "plt.ylabel('Count')\n",
        "plt.show()\n",
        "\n",
        "# Example: Average sentiment polarity by app category\n",
        "avg_sentiment = reviews.groupby('App')['Sentiment_Polarity'].mean().reset_index()\n",
        "avg_sentiment = avg_sentiment.merge(apps[['App', 'Category']], on='App')\n",
        "\n",
        "plt.figure(figsize=(12, 8))\n",
        "sns.boxplot(x='Sentiment_Polarity', y='Category', data=avg_sentiment)\n",
        "plt.title('Average Sentiment Polarity by App Category')\n",
        "plt.xlabel('Sentiment Polarity')\n",
        "plt.ylabel('Category')\n",
        "plt.show()\n"
      ],
      "metadata": {
        "id": "gbL-hl6J_sSW"
      },
      "execution_count": null,
      "outputs": []
    },
    {
      "cell_type": "markdown",
      "source": [
        "# Top 10 Categories by Number of Apps"
      ],
      "metadata": {
        "id": "oW_06pzXWr4r"
      }
    },
    {
      "cell_type": "code",
      "source": [
        "plt.figure(figsize=(12, 8))\n",
        "top_categories = apps['Category'].value_counts().head(10)\n",
        "sns.barplot(x=top_categories.values, y=top_categories.index, palette='viridis')\n",
        "plt.title('Top 10 Categories by Number of Apps')\n",
        "plt.xlabel('Number of Apps')\n",
        "plt.ylabel('Category')\n",
        "plt.show()\n"
      ],
      "metadata": {
        "id": "xzEaI9nbWoAQ"
      },
      "execution_count": null,
      "outputs": []
    },
    {
      "cell_type": "markdown",
      "source": [
        "# Univariate Analysis (U):\n",
        "* Distribution of App Ratings:"
      ],
      "metadata": {
        "id": "E5bOJLUE__0a"
      }
    },
    {
      "cell_type": "code",
      "source": [
        "plt.figure(figsize=(12, 8))\n",
        "sns.histplot(apps[apps['Price'] > 0]['Price'], bins=30, kde=True)\n",
        "plt.title('Distribution of Paid App Prices')\n",
        "plt.xlabel('Price ($)')\n",
        "plt.ylabel('Frequency')\n",
        "plt.show()\n"
      ],
      "metadata": {
        "id": "53TKZCh2AFs6"
      },
      "execution_count": null,
      "outputs": []
    },
    {
      "cell_type": "markdown",
      "source": [
        "# Average Rating by App Type (Free vs. Paid):"
      ],
      "metadata": {
        "id": "-n_KG7QeXXGV"
      }
    },
    {
      "cell_type": "code",
      "source": [
        "plt.figure(figsize=(10, 6))\n",
        "apps['Type'] = apps['Type'].fillna('Free')\n",
        "sns.boxplot(x='Type', y='Rating', data=apps)\n",
        "plt.title('Average Rating by App Type (Free vs. Paid)')\n",
        "plt.xlabel('Type')\n",
        "plt.ylabel('Rating')\n",
        "plt.show()\n"
      ],
      "metadata": {
        "id": "n3H6zfpuXXw9"
      },
      "execution_count": null,
      "outputs": []
    },
    {
      "cell_type": "markdown",
      "source": [
        "# Number of Reviews vs. Rating:"
      ],
      "metadata": {
        "id": "RTynv3mjXh2b"
      }
    },
    {
      "cell_type": "code",
      "source": [
        "plt.figure(figsize=(10, 6))\n",
        "sns.scatterplot(x='Reviews', y='Rating', data=apps, alpha=0.5)\n",
        "plt.title('Number of Reviews vs. Rating')\n",
        "plt.xlabel('Number of Reviews')\n",
        "plt.ylabel('Rating')\n",
        "plt.xscale('log')\n",
        "plt.show()\n"
      ],
      "metadata": {
        "id": "aJY5HPKOXiWE"
      },
      "execution_count": null,
      "outputs": []
    },
    {
      "cell_type": "markdown",
      "source": [
        "# Average App Size by Category:"
      ],
      "metadata": {
        "id": "4LC5k80wYYN4"
      }
    },
    {
      "cell_type": "code",
      "source": [
        "# Preprocess 'Size' column\n",
        "apps['Size'] = apps['Size'].replace('Varies with device', pd.NA)\n",
        "\n",
        "# Handle 'M' and 'k' replacements separately\n",
        "apps['Size'] = apps['Size'].apply(lambda x: str(x).replace('M', '') if 'M' in str(x) else str(x))\n",
        "apps['Size'] = apps['Size'].apply(lambda x: str(float(str(x).replace('k', '')) / 1000) if 'k' in str(x) else str(x))\n",
        "\n",
        "# Convert to numeric, coercing errors to NaN\n",
        "apps['Size'] = pd.to_numeric(apps['Size'], errors='coerce')\n",
        "\n",
        "# Drop rows with NaN 'Size'\n",
        "apps.dropna(subset=['Size'], inplace=True)\n",
        "\n",
        "# Calculate average size by category\n",
        "avg_size_by_category = apps.groupby('Category')['Size'].mean().sort_values(ascending=False)\n",
        "\n",
        "# Plot the average size by category\n",
        "plt.figure(figsize=(12, 8))\n",
        "sns.barplot(x=avg_size_by_category, y=avg_size_by_category.index, palette='coolwarm')\n",
        "plt.title('Average App Size by Category')\n",
        "plt.xlabel('Average Size (MB)')\n",
        "plt.ylabel('Category')\n",
        "plt.show()\n"
      ],
      "metadata": {
        "id": "Wrh2FnheYY5Z"
      },
      "execution_count": null,
      "outputs": []
    },
    {
      "cell_type": "markdown",
      "source": [
        "# Total Installs by Category:"
      ],
      "metadata": {
        "id": "LiowoJ0IZJdv"
      }
    },
    {
      "cell_type": "code",
      "source": [
        "plt.figure(figsize=(12, 8))\n",
        "total_installs_by_category = apps.groupby('Category')['Installs'].sum().sort_values(ascending=False)\n",
        "sns.barplot(x=total_installs_by_category, y=total_installs_by_category.index, palette='inferno')\n",
        "plt.title('Total Installs by Category')\n",
        "plt.xlabel('Total Installs')\n",
        "plt.ylabel('Category')\n",
        "plt.show()\n"
      ],
      "metadata": {
        "id": "NhThXwIMZKCX"
      },
      "execution_count": null,
      "outputs": []
    },
    {
      "cell_type": "markdown",
      "source": [
        "# Rating Distribution by Content Rating:"
      ],
      "metadata": {
        "id": "loQexIgKZU5k"
      }
    },
    {
      "cell_type": "code",
      "source": [
        "plt.figure(figsize=(12, 8))\n",
        "sns.boxplot(x='Rating', y='Content Rating', data=apps)\n",
        "plt.title('Rating Distribution by Content Rating')\n",
        "plt.xlabel('Rating')\n",
        "plt.ylabel('Content Rating')\n",
        "plt.show()\n"
      ],
      "metadata": {
        "id": "FJ7QbdKxZVi1"
      },
      "execution_count": null,
      "outputs": []
    },
    {
      "cell_type": "markdown",
      "source": [
        "# Correlation Matrix:"
      ],
      "metadata": {
        "id": "V6rTjLDxZhXS"
      }
    },
    {
      "cell_type": "code",
      "source": [
        "# Preprocess 'Size' column\n",
        "apps['Size'] = apps['Size'].replace('Varies with device', pd.NA)\n",
        "apps['Size'] = apps['Size'].apply(lambda x: str(x).replace('M', '') if 'M' in str(x) else str(x))\n",
        "apps['Size'] = apps['Size'].apply(lambda x: str(float(str(x).replace('k', '')) / 1000) if 'k' in str(x) else str(x))\n",
        "apps['Size'] = pd.to_numeric(apps['Size'], errors='coerce')\n",
        "\n",
        "# Drop rows with NaN 'Size'\n",
        "apps.dropna(subset=['Size'], inplace=True)\n",
        "\n",
        "# Select only numeric columns for correlation matrix\n",
        "numeric_cols = apps.select_dtypes(include=[float, int])\n",
        "\n",
        "# Compute correlation matrix\n",
        "correlation_matrix = numeric_cols.corr()\n",
        "\n",
        "# Plot the correlation matrix\n",
        "plt.figure(figsize=(10, 6))\n",
        "sns.heatmap(correlation_matrix, annot=True, cmap='coolwarm', linewidths=0.5)\n",
        "plt.title('Correlation Matrix')\n",
        "plt.show()\n"
      ],
      "metadata": {
        "id": "OmOukDS8Zh1y"
      },
      "execution_count": null,
      "outputs": []
    },
    {
      "cell_type": "markdown",
      "source": [
        "# Top Apps by Number of Reviews:"
      ],
      "metadata": {
        "id": "He_QozUOZ9-Z"
      }
    },
    {
      "cell_type": "code",
      "source": [
        "plt.figure(figsize=(12, 8))\n",
        "top_apps_by_reviews = apps.sort_values(by='Reviews', ascending=False).head(10)\n",
        "sns.barplot(x='Reviews', y='App', data=top_apps_by_reviews, palette='Blues_r')\n",
        "plt.title('Top 10 Apps by Number of Reviews')\n",
        "plt.xlabel('Number of Reviews')\n",
        "plt.ylabel('App')\n",
        "plt.show()\n"
      ],
      "metadata": {
        "id": "If-fCk8VZ-o8"
      },
      "execution_count": null,
      "outputs": []
    },
    {
      "cell_type": "markdown",
      "source": [
        "# App Categories with Highest Average Sentiment Polarity:"
      ],
      "metadata": {
        "id": "GdC3VYcLaMNe"
      }
    },
    {
      "cell_type": "code",
      "source": [
        "# Calculate average sentiment polarity by app category\n",
        "avg_sentiment_by_category = avg_sentiment.groupby('Category')['Sentiment_Polarity'].mean().sort_values(ascending=False)\n",
        "\n",
        "plt.figure(figsize=(12, 8))\n",
        "sns.barplot(x=avg_sentiment_by_category, y=avg_sentiment_by_category.index, palette='magma')\n",
        "plt.title('App Categories with Highest Average Sentiment Polarity')\n",
        "plt.xlabel('Average Sentiment Polarity')\n",
        "plt.ylabel('Category')\n",
        "plt.show()\n"
      ],
      "metadata": {
        "id": "xtl4lZVQaM38"
      },
      "execution_count": null,
      "outputs": []
    },
    {
      "cell_type": "markdown",
      "source": [
        "# Sentiment Distribution of User Review:"
      ],
      "metadata": {
        "id": "X4GPsc_dbAnb"
      }
    },
    {
      "cell_type": "code",
      "source": [
        "plt.figure(figsize=(10, 6))\n",
        "sns.countplot(x='Sentiment', data=reviews)\n",
        "plt.title('Sentiment Distribution of User Reviews')\n",
        "plt.xlabel('Sentiment')\n",
        "plt.ylabel('Count')\n",
        "plt.show()\n"
      ],
      "metadata": {
        "id": "3ntsI_8JbC0y"
      },
      "execution_count": null,
      "outputs": []
    },
    {
      "cell_type": "markdown",
      "source": [
        "# Pairplot of Selected Features:"
      ],
      "metadata": {
        "id": "A5YwzwUvbN5_"
      }
    },
    {
      "cell_type": "code",
      "source": [
        "sns.pairplot(apps[['Rating', 'Reviews', 'Installs', 'Price']])\n",
        "plt.title('Pairplot of Selected Features')\n",
        "plt.show()\n"
      ],
      "metadata": {
        "id": "9JxuU27rbOjX"
      },
      "execution_count": null,
      "outputs": []
    },
    {
      "cell_type": "markdown",
      "source": [
        "# Multivariate Analysis\n",
        "*Correlation Heatmap*"
      ],
      "metadata": {
        "id": "u9F4eHjEbm2j"
      }
    },
    {
      "cell_type": "code",
      "source": [
        "print(apps.dtypes)\n",
        "\n",
        "\n",
        "# Selecting only numeric columns\n",
        "apps_numeric = apps.select_dtypes(include=['float64', 'int64'])\n",
        "\n",
        "# Check for missing values\n",
        "print(apps_numeric.isnull().sum())\n",
        "\n",
        "plt.figure(figsize=(10, 6))\n",
        "sns.heatmap(apps_numeric.corr(), annot=True, cmap='coolwarm')\n",
        "plt.title('Correlation Heatmap')\n",
        "plt.show()\n",
        "\n"
      ],
      "metadata": {
        "id": "UBvZ0YoJbnkZ"
      },
      "execution_count": null,
      "outputs": []
    },
    {
      "cell_type": "markdown",
      "source": [
        "# Bivariate Analysis (B):\n",
        "* Ratings by Category:"
      ],
      "metadata": {
        "id": "qB7SEm77AI_5"
      }
    },
    {
      "cell_type": "markdown",
      "source": [
        "# Multivariate Analysis (M):\n",
        "* Ratings by Category and Sentiment:"
      ],
      "metadata": {
        "id": "XKM_ZzdSASrc"
      }
    },
    {
      "cell_type": "code",
      "source": [
        "!pip install vaderSentiment\n"
      ],
      "metadata": {
        "id": "qPtf6GZYpyIS"
      },
      "execution_count": null,
      "outputs": []
    },
    {
      "cell_type": "code",
      "source": [
        "import os\n",
        "\n",
        "# Print current working directory\n",
        "print(os.getcwd())"
      ],
      "metadata": {
        "id": "jbBidFS5qnAy"
      },
      "execution_count": null,
      "outputs": []
    },
    {
      "cell_type": "code",
      "source": [
        "from google.colab import files\n",
        "import pandas as pd\n",
        "import io\n",
        "\n",
        "# Upload file\n",
        "uploaded = files.upload()\n",
        "\n",
        "# Load the uploaded file into a DataFrame\n",
        "for filename in uploaded.keys():\n",
        "    reviews_df = pd.read_csv(io.BytesIO(uploaded[filename]))\n",
        "    print(f\"Loaded {filename} into DataFrame.\")\n",
        "\n",
        "    reviews_df = pd.read_csv('User Reviews.csv')\n",
        "\n",
        "print(reviews_df.head())\n",
        "\n"
      ],
      "metadata": {
        "id": "MJQULMqgqDbg"
      },
      "execution_count": null,
      "outputs": []
    },
    {
      "cell_type": "code",
      "source": [
        "# Print the column names\n",
        "print(reviews_df.columns)\n"
      ],
      "metadata": {
        "id": "_NO-1u7ztA78"
      },
      "execution_count": null,
      "outputs": []
    },
    {
      "cell_type": "markdown",
      "source": [
        "# Exception Handling and Production Grade Code:"
      ],
      "metadata": {
        "id": "4vaT9nHpAa9_"
      }
    },
    {
      "cell_type": "code",
      "source": [
        "try:\n",
        "    # Example of data loading and preprocessing with exception handling\n",
        "    apps_df = pd.read_csv('Play Store Data.csv')\n",
        "    reviews_df = pd.read_csv('User Reviews.csv')\n",
        "\n",
        "    # Further processing steps...\n",
        "\n",
        "except FileNotFoundError as e:\n",
        "    print(f\"Error: {e}. Please ensure the dataset files are in the correct directory.\")\n",
        "except pd.errors.ParserError as e:\n",
        "    print(f\"Error: {e}. There was an issue parsing the CSV files.\")\n",
        "except Exception as e:\n",
        "    print(f\"An unexpected error occurred: {e}\")\n"
      ],
      "metadata": {
        "id": "J5C6000zAgB-"
      },
      "execution_count": null,
      "outputs": []
    },
    {
      "cell_type": "markdown",
      "source": [
        "# ***Let's Begin !***"
      ],
      "metadata": {
        "id": "O_i_v8NEhb9l"
      }
    },
    {
      "cell_type": "markdown",
      "source": [
        "## ***1. Know Your Data***"
      ],
      "metadata": {
        "id": "HhfV-JJviCcP"
      }
    },
    {
      "cell_type": "markdown",
      "source": [
        "### Import Libraries"
      ],
      "metadata": {
        "id": "Y3lxredqlCYt"
      }
    },
    {
      "cell_type": "code",
      "source": [
        "# Import Libraries"
      ],
      "metadata": {
        "id": "M8Vqi-pPk-HR"
      },
      "execution_count": null,
      "outputs": []
    },
    {
      "cell_type": "code",
      "source": [
        "# Import data manipulation and analysis libraries\n",
        "import pandas as pd\n",
        "import numpy as np\n",
        "\n",
        "# Import visualization libraries\n",
        "import matplotlib.pyplot as plt\n",
        "import seaborn as sns\n",
        "\n",
        "# Import machine learning libraries\n",
        "from sklearn.model_selection import train_test_split\n",
        "from sklearn.preprocessing import StandardScaler\n",
        "from sklearn.linear_model import LogisticRegression\n",
        "from sklearn.metrics import accuracy_score, classification_report\n",
        "\n",
        "# Import sentiment analysis library (if needed)\n",
        "from vaderSentiment.vaderSentiment import SentimentIntensityAnalyzer\n"
      ],
      "metadata": {
        "id": "AbDWTATIu_D-"
      },
      "execution_count": null,
      "outputs": []
    },
    {
      "cell_type": "code",
      "source": [
        "pip install pandas numpy matplotlib seaborn scikit-learn vaderSentiment\n"
      ],
      "metadata": {
        "id": "lReoUvH4vDSD"
      },
      "execution_count": null,
      "outputs": []
    },
    {
      "cell_type": "markdown",
      "source": [
        "### Dataset Loading"
      ],
      "metadata": {
        "id": "3RnN4peoiCZX"
      }
    },
    {
      "cell_type": "code",
      "source": [
        "from google.colab import files\n",
        "import pandas as pd\n",
        "import io\n",
        "\n",
        "# Upload the file\n",
        "uploaded = files.upload()\n",
        "\n",
        "# Load the uploaded file into a DataFrame\n",
        "for filename in uploaded.keys():\n",
        "    apps_df = pd.read_csv(io.BytesIO(uploaded[filename]))\n",
        "    print(f\"Loaded {filename} into DataFrame.\")\n"
      ],
      "metadata": {
        "id": "4CkvbW_SlZ_R"
      },
      "execution_count": null,
      "outputs": []
    },
    {
      "cell_type": "markdown",
      "source": [
        "### Dataset First View"
      ],
      "metadata": {
        "id": "x71ZqKXriCWQ"
      }
    },
    {
      "cell_type": "code",
      "source": [
        "from google.colab import drive\n",
        "drive.mount('/content/drive')\n"
      ],
      "metadata": {
        "id": "mEafVAGbwKBH"
      },
      "execution_count": null,
      "outputs": []
    },
    {
      "cell_type": "code",
      "source": [
        "!ls /content/drive/My\\ Drive/User Reviews.csv\n",
        "\n"
      ],
      "metadata": {
        "id": "x_WNy_Mgw7js"
      },
      "execution_count": null,
      "outputs": []
    },
    {
      "cell_type": "code",
      "source": [
        "# Load your dataset\n",
        "import pandas as pd\n",
        "\n",
        "# Correct path with slashes\n",
        "df = pd.read_csv('/content/drive/My Drive/User Reviews.csv')\n",
        "\n",
        "\n",
        "# Display the first 5 rows of the dataset\n",
        "print(df.head())\n"
      ],
      "metadata": {
        "id": "LWNFOSvLl09H"
      },
      "execution_count": null,
      "outputs": []
    },
    {
      "cell_type": "markdown",
      "source": [
        "### Dataset Rows & Columns count"
      ],
      "metadata": {
        "id": "7hBIi_osiCS2"
      }
    },
    {
      "cell_type": "code",
      "source": [
        "# Get the number of rows and columns\n",
        "rows, columns = df.shape\n",
        "print(f\"Number of rows: {rows}\")\n",
        "print(f\"Number of columns: {columns}\")\n"
      ],
      "metadata": {
        "id": "Kllu7SJgmLij"
      },
      "execution_count": null,
      "outputs": []
    },
    {
      "cell_type": "markdown",
      "source": [
        "### Dataset Information"
      ],
      "metadata": {
        "id": "JlHwYmJAmNHm"
      }
    },
    {
      "cell_type": "code",
      "source": [
        "# Display detailed information about the dataset\n",
        "print(df.info())\n"
      ],
      "metadata": {
        "id": "e9hRXRi6meOf"
      },
      "execution_count": null,
      "outputs": []
    },
    {
      "cell_type": "markdown",
      "source": [
        "#### Duplicate Values"
      ],
      "metadata": {
        "id": "35m5QtbWiB9F"
      }
    },
    {
      "cell_type": "code",
      "source": [
        "# Check for duplicate rows\n",
        "duplicates = df.duplicated()\n",
        "print(f\"Number of duplicate rows: {duplicates.sum()}\")\n",
        "\n",
        "# Display duplicate rows\n",
        "print(\"Duplicate rows:\")\n",
        "print(df[duplicates])\n",
        "\n",
        "# Remove duplicate rows\n",
        "df_cleaned = df.drop_duplicates()\n",
        "print(f\"Number of rows after removing duplicates: {df_cleaned.shape[0]}\")\n"
      ],
      "metadata": {
        "id": "1sLdpKYkmox0"
      },
      "execution_count": null,
      "outputs": []
    },
    {
      "cell_type": "markdown",
      "source": [
        "#### Missing Values/Null Values"
      ],
      "metadata": {
        "id": "PoPl-ycgm1ru"
      }
    },
    {
      "cell_type": "code",
      "source": [
        "pip install missingno\n"
      ],
      "metadata": {
        "id": "GgHWkxvamxVg"
      },
      "execution_count": null,
      "outputs": []
    },
    {
      "cell_type": "code",
      "source": [
        "import missingno as msno\n",
        "import pandas as pd\n",
        "\n",
        "# Load your dataset\n",
        "\n",
        "df = pd.read_csv('/content/drive/My Drive/User Reviews.csv')\n",
        "# Visualize missing values\n",
        "msno.matrix(df)\n",
        "msno.heatmap(df)\n",
        "msno.bar(df)\n"
      ],
      "metadata": {
        "id": "Kt7QgKogyq3F"
      },
      "execution_count": null,
      "outputs": []
    },
    {
      "cell_type": "code",
      "source": [
        "pip install seaborn\n"
      ],
      "metadata": {
        "id": "3q5wnI3om9sJ"
      },
      "execution_count": null,
      "outputs": []
    },
    {
      "cell_type": "code",
      "source": [
        "import numpy as np\n",
        "import seaborn as sns\n",
        "import matplotlib.pyplot as plt\n",
        "\n",
        "# Generate a mask for missing values\n",
        "missing_mask = df.isnull()\n",
        "\n",
        "# Plot the heatmap\n",
        "plt.figure(figsize=(12, 8))\n",
        "sns.heatmap(missing_mask, cbar=False, cmap='viridis', yticklabels=False, xticklabels=df.columns)\n",
        "plt.title('Missing Values Heatmap')\n",
        "plt.show()\n"
      ],
      "metadata": {
        "id": "KwoCiazUy_Y6"
      },
      "execution_count": null,
      "outputs": []
    },
    {
      "cell_type": "code",
      "source": [
        "# Count missing values per column\n",
        "missing_count = df.isnull().sum()\n",
        "\n",
        "# Plot the bar plot\n",
        "plt.figure(figsize=(12, 6))\n",
        "missing_count.plot(kind='bar', color='skyblue')\n",
        "plt.title('Missing Values Count by Column')\n",
        "plt.xlabel('Column')\n",
        "plt.ylabel('Number of Missing Values')\n",
        "plt.xticks(rotation=45)\n",
        "plt.show()\n"
      ],
      "metadata": {
        "id": "HXATEONFzEkw"
      },
      "execution_count": null,
      "outputs": []
    },
    {
      "cell_type": "markdown",
      "source": [
        "### What did you know about your dataset?"
      ],
      "metadata": {
        "id": "H0kj-8xxnORC"
      }
    },
    {
      "cell_type": "markdown",
      "source": [
        "Based on the typical analysis steps, here's what you would know about your dataset:\n",
        "\n",
        "1. First View\n",
        "Content: You'll see the first few rows of the dataset, which gives you a preview of the data structure and the type of information each column holds (e.g., text, numbers).\n",
        "Column Names: You'll learn the names of the columns and their possible values.\n",
        "2. Rows and Columns Count\n",
        "Size: You'll know the total number of rows (records) and columns (features). This helps understand the dataset's scale and complexity.\n",
        "3. Dataset Information\n",
        "Column Names and Data Types: You'll get the names and data types of each column. This tells you whether columns contain integers, floats, strings, etc.\n",
        "Non-null Counts: You'll see how many non-null values each column contains. This helps identify columns with missing data.\n",
        "Memory Usage: Provides insight into how much memory the dataset is using, which can be useful for performance considerations.\n",
        "4. Duplicate Values\n",
        "Number of Duplicates: You’ll know how many duplicate rows exist in the dataset.\n",
        "Handling Duplicates: Whether you choose to keep, remove, or handle duplicates in some way.\n",
        "5. Missing/Null Values\n",
        "Missing Values Count: You'll see how many missing values exist per column.\n",
        "Patterns of Missing Data: Whether missing values are concentrated in specific columns or distributed evenly.\n",
        "Handling Missing Data: Whether you need to fill in, drop, or otherwise handle missing values based on the patterns observed.\n",
        "6. Visualizations of Missing Values\n",
        "Heatmap: Shows where missing values occur in the dataset, highlighting columns with significant missing data.\n",
        "Bar Plot: Provides a clear count of missing values for each column, which helps in identifying which columns require attention.\n",
        "Example Summary\n",
        "Assuming the following hypothetical output from these steps:\n"
      ],
      "metadata": {
        "id": "gfoNAAC-nUe_"
      }
    },
    {
      "cell_type": "markdown",
      "source": [
        "## ***2. Understanding Your Variables***"
      ],
      "metadata": {
        "id": "nA9Y7ga8ng1Z"
      }
    },
    {
      "cell_type": "code",
      "source": [
        "# Display the column names\n",
        "print(\"Dataset Columns:\")\n",
        "print(df.columns)\n"
      ],
      "metadata": {
        "id": "j7xfkqrt5Ag5"
      },
      "execution_count": null,
      "outputs": []
    },
    {
      "cell_type": "code",
      "source": [
        "# Statistical summary of numerical columns\n",
        "print(\"Statistical Summary:\")\n",
        "print(df.describe())\n",
        "\n",
        "# Summary of categorical columns\n",
        "print(\"\\nCategorical Columns Summary:\")\n",
        "for col in df.select_dtypes(include='object').columns:\n",
        "    print(f\"\\n{col} value counts:\")\n",
        "    print(df[col].value_counts())\n"
      ],
      "metadata": {
        "id": "DnOaZdaE5Q5t"
      },
      "execution_count": null,
      "outputs": []
    },
    {
      "cell_type": "markdown",
      "source": [
        "### Variables Description"
      ],
      "metadata": {
        "id": "PBTbrJXOngz2"
      }
    },
    {
      "cell_type": "markdown",
      "source": [
        "Manually describe each column based on its name and data type:\n",
        "\n",
        "Column Names: Identify what each column represents.\n",
        "Data Types: Understand the type of data each column contains (e.g., numerical, categorical, text, date).\n",
        "Column Descriptions: Provide descriptions based on the context of your dataset"
      ],
      "metadata": {
        "id": "8EaGqV_u0MLx"
      }
    },
    {
      "cell_type": "code",
      "source": [
        "# Manually describe each column\n",
        "column_descriptions = {\n",
        "    'Category': 'The type of app or product category (e.g., Photography, Games, Health)',\n",
        "    'Rating': 'User rating for the app (numerical)',\n",
        "    'Review': 'Text of user review (categorical text)',\n",
        "}\n",
        "\n",
        "print(\"\\nVariable Descriptions:\")\n",
        "for col, description in column_descriptions.items():\n",
        "    print(f\"{col}: {description}\")\n"
      ],
      "metadata": {
        "id": "ImEHIyDC0DAA"
      },
      "execution_count": null,
      "outputs": []
    },
    {
      "cell_type": "markdown",
      "source": [
        "### Check Unique Values for each variable."
      ],
      "metadata": {
        "id": "u3PMJOP6ngxN"
      }
    },
    {
      "cell_type": "code",
      "source": [
        "# Check unique values for each column\n",
        "print(\"\\nUnique Values in Each Column:\")\n",
        "for col in df.columns:\n",
        "    print(f\"\\nUnique values in {col}:\")\n",
        "    print(df[col].unique())\n",
        "    print(f\"Number of unique values: {df[col].nunique()}\")\n"
      ],
      "metadata": {
        "id": "zms12Yq5n-jE"
      },
      "execution_count": null,
      "outputs": []
    },
    {
      "cell_type": "markdown",
      "source": [
        "## 3. ***Data Wrangling***"
      ],
      "metadata": {
        "id": "dauF4eBmngu3"
      }
    },
    {
      "cell_type": "code",
      "source": [
        "!pip install pandas numpy\n"
      ],
      "metadata": {
        "id": "wk-9a2fpoLcV"
      },
      "execution_count": null,
      "outputs": []
    },
    {
      "cell_type": "code",
      "source": [
        "from google.colab import drive\n",
        "drive.mount('/content/drive')"
      ],
      "metadata": {
        "id": "CD3-CH8byAGe"
      },
      "execution_count": null,
      "outputs": []
    },
    {
      "cell_type": "code",
      "source": [
        "ls\n"
      ],
      "metadata": {
        "id": "kXWE5YgCyN3n"
      },
      "execution_count": null,
      "outputs": []
    },
    {
      "cell_type": "code",
      "source": [
        "import pandas as pd\n",
        "\n",
        "# Load the dataset\n",
        "df = pd.read_csv('/content/drive/My Drive/User Reviews.csv')\n",
        "# Initial exploration\n",
        "print(df.info())\n",
        "print(df.head())\n",
        "\n",
        "# Handle missing values\n",
        "\n",
        "# 1. Forward fill for non-numeric columns\n",
        "df['Translated_Review'].fillna(method='ffill', inplace=True)\n",
        "df['Sentiment'].fillna(method='ffill', inplace=True)\n",
        "\n",
        "# 2. Fill missing numeric columns with the mean\n",
        "df['Sentiment_Polarity'].fillna(df['Sentiment_Polarity'].mean(), inplace=True)\n",
        "df['Sentiment_Subjectivity'].fillna(df['Sentiment_Subjectivity'].mean(), inplace=True)\n",
        "\n",
        "# Verify the changes\n",
        "print(df.info())\n",
        "print(df.head())\n",
        "\n",
        "# Save the cleaned data\n",
        "df.to_csv('/content/drive/My Drive/User Reviews.csv', index=False)\n"
      ],
      "metadata": {
        "id": "JbcJW1XEwn62"
      },
      "execution_count": null,
      "outputs": []
    },
    {
      "cell_type": "markdown",
      "source": [
        "### What all manipulations have you done and insights you found?"
      ],
      "metadata": {
        "id": "MSa1f5Uengrz"
      }
    },
    {
      "cell_type": "markdown",
      "source": [
        "Here's a summary of the data wrangling steps performed and potential insights that can be derived from the \"User Reviews\" dataset:\n",
        "\n",
        "1. Data Loading\n",
        "The dataset \"User Reviews.csv\" was loaded, containing 64,295 rows and 5 columns: App, Translated_Review, Sentiment, Sentiment_Polarity, and Sentiment_Subjectivity.\n",
        "2. Initial Exploration\n",
        "The data types of the columns were checked.\n",
        "Missing values were identified in the Translated_Review, Sentiment, Sentiment_Polarity, and Sentiment_Subjectivity columns.\n",
        "3. Handling Missing Values\n",
        "Text Columns:\n",
        "Translated_Review: Missing values were filled using forward fill (ffill), which propagates the last valid observation forward.\n",
        "Sentiment: Missing values were also filled using forward fill.\n",
        "Numeric Columns:\n",
        "Sentiment_Polarity: Missing values were filled with the mean of the column.\n",
        "Sentiment_Subjectivity: Missing values were similarly filled with the mean.\n",
        "4. Feature Engineering and Data Cleaning\n",
        "Imputing Missing Data: This made the dataset more complete and ready for analysis by ensuring no rows were left with missing values.\n",
        "No Dropping of Rows: Since the data filling strategy was applied, no rows were removed from the dataset, preserving the dataset's size.\n",
        "5. Insights from the Wrangled Data\n",
        "After cleaning the data, several insights can be derived:\n",
        "\n",
        "Sentiment Analysis:\n",
        "\n",
        "The Sentiment column provides a high-level sentiment analysis (Positive, Neutral, Negative) of user reviews.\n",
        "By examining the distribution of sentiments, you can identify how users generally feel about different apps.\n",
        "Polarity and Subjectivity Scores:\n",
        "\n",
        "Sentiment_Polarity ranges from -1 (negative sentiment) to 1 (positive sentiment), and you can analyze the average sentiment polarity for each app.\n",
        "Sentiment_Subjectivity indicates how subjective a review is, with values closer to 1 indicating more subjective opinions. This can help in understanding the tone of reviews.\n",
        "Correlation Analysis:\n",
        "\n",
        "You could further investigate correlations between sentiment polarity and sentiment subjectivity to see if more subjective reviews tend to be more positive or negative.\n",
        "App-Specific Analysis:\n",
        "\n",
        "By grouping the data by App, you can compare sentiment metrics across different apps. This could highlight which apps are perceived more positively or negatively by users.\n",
        "Next Steps for Deeper Insights\n",
        "Sentiment Trends: Plot sentiment distribution over time or across different apps to detect trends.\n",
        "Feature Importance: If you were to build a predictive model, analyze which features (e.g., length of review, app category) are most predictive of positive or negative sentiment.\n",
        "Outlier Detection: Identify reviews with extremely high or low polarity scores as potential outliers for further manual review."
      ],
      "metadata": {
        "id": "LbyXE7I1olp8"
      }
    },
    {
      "cell_type": "markdown",
      "source": [
        "## ***4. Data Vizualization, Storytelling & Experimenting with charts : Understand the relationships between variables***"
      ],
      "metadata": {
        "id": "GF8Ens_Soomf"
      }
    },
    {
      "cell_type": "markdown",
      "source": [
        "#### Chart - 1"
      ],
      "metadata": {
        "id": "0wOQAZs5pc--"
      }
    },
    {
      "cell_type": "code",
      "source": [
        "# Import necessary libraries\n",
        "import pandas as pd\n",
        "import matplotlib.pyplot as plt\n",
        "import seaborn as sns\n",
        "from wordcloud import WordCloud\n",
        "\n",
        "# Load the dataset again if necessary\n",
        "df = pd.read_csv('/content/drive/My Drive/User Reviews.csv')\n",
        "\n",
        "# Set the style for seaborn\n",
        "sns.set(style=\"whitegrid\")\n",
        "\n",
        "# Now you can run the previous plotting code\n",
        "plt.figure(figsize=(12, 6))\n",
        "sns.countplot(y=\"App\", hue=\"Sentiment\", data=df, order=df['App'].value_counts().index[:10])\n",
        "plt.title('Sentiment Distribution for Top 10 Apps')\n",
        "plt.xlabel('Count')\n",
        "plt.ylabel('App')\n",
        "plt.legend(title='Sentiment')\n",
        "plt.show()\n"
      ],
      "metadata": {
        "id": "7v_ESjsspbW7"
      },
      "execution_count": null,
      "outputs": []
    },
    {
      "cell_type": "markdown",
      "source": [
        "##### 1. Why did you pick the specific chart?"
      ],
      "metadata": {
        "id": "K5QZ13OEpz2H"
      }
    },
    {
      "cell_type": "markdown",
      "source": [
        "Bar plots are great for comparing the frequency of categories across different groups. This chart allows you to see how sentiments are distributed across the top 10 apps, making it easy to compare which apps have the most positive, neutral, or negative feedback"
      ],
      "metadata": {
        "id": "XESiWehPqBRc"
      }
    },
    {
      "cell_type": "markdown",
      "source": [
        "##### 2. What is/are the insight(s) found from the chart?"
      ],
      "metadata": {
        "id": "lQ7QKXXCp7Bj"
      }
    },
    {
      "cell_type": "markdown",
      "source": [
        "This plot shows the distribution of sentiments (Positive, Negative, Neutral) for the top 10 apps. You can identify which apps have the highest count of each sentiment, revealing which apps are most positively or negatively received by users."
      ],
      "metadata": {
        "id": "C_j1G7yiqdRP"
      }
    },
    {
      "cell_type": "markdown",
      "source": [
        "##### 3. Will the gained insights help creating a positive business impact?\n",
        "Are there any insights that lead to negative growth? Justify with specific reason."
      ],
      "metadata": {
        "id": "448CDAPjqfQr"
      }
    },
    {
      "cell_type": "markdown",
      "source": [
        "Knowing the proportion of positive, negative, and neutral sentiments helps tailor marketing strategies. Positive sentiment can be leveraged in marketing campaigns, while negative sentiment can be addressed proactively."
      ],
      "metadata": {
        "id": "3cspy4FjqxJW"
      }
    },
    {
      "cell_type": "markdown",
      "source": [
        "#### Chart - 2"
      ],
      "metadata": {
        "id": "KSlN3yHqYklG"
      }
    },
    {
      "cell_type": "code",
      "source": [
        "plt.figure(figsize=(10, 6))\n",
        "sns.scatterplot(x='Sentiment_Polarity', y='Sentiment_Subjectivity', hue='Sentiment', data=df)\n",
        "plt.title('Relationship between Sentiment Polarity and Subjectivity')\n",
        "plt.xlabel('Sentiment Polarity')\n",
        "plt.ylabel('Sentiment Subjectivity')\n",
        "plt.show()"
      ],
      "metadata": {
        "id": "R4YgtaqtYklH"
      },
      "execution_count": null,
      "outputs": []
    },
    {
      "cell_type": "markdown",
      "source": [
        "##### 1. Why did you pick the specific chart?"
      ],
      "metadata": {
        "id": "t6dVpIINYklI"
      }
    },
    {
      "cell_type": "markdown",
      "source": [
        "Sentiment Polarity vs Subjectivity Reason: Scatter plots are ideal for showing relationships between two numerical variables. This chart helps you understand if there’s any correlation between how subjective a review is and its polarity (whether it’s positive or negative)"
      ],
      "metadata": {
        "id": "5aaW0BYyYklI"
      }
    },
    {
      "cell_type": "markdown",
      "source": [
        "##### 2. What is/are the insight(s) found from the chart?"
      ],
      "metadata": {
        "id": "ijmpgYnKYklI"
      }
    },
    {
      "cell_type": "markdown",
      "source": [
        "This scatter plot illustrates the relationship between sentiment polarity (degree of positivity or negativity) and subjectivity (how subjective or objective a review is). It helps in understanding whether more subjective reviews tend to be more extreme (positive or negative) or if there's a pattern in the distribution of sentiment scores"
      ],
      "metadata": {
        "id": "PSx9atu2YklI"
      }
    },
    {
      "cell_type": "markdown",
      "source": [
        "##### 3. Will the gained insights help creating a positive business impact?\n",
        "Are there any insights that lead to negative growth? Justify with specific reason."
      ],
      "metadata": {
        "id": "-JiQyfWJYklI"
      }
    },
    {
      "cell_type": "markdown",
      "source": [
        "Insights from these plots can guide product development teams on whether to focus on enhancing features or improving user experience based on the observed sentiment patterns."
      ],
      "metadata": {
        "id": "BcBbebzrYklV"
      }
    },
    {
      "cell_type": "markdown",
      "source": [
        "#### Chart - 3"
      ],
      "metadata": {
        "id": "EM7whBJCYoAo"
      }
    },
    {
      "cell_type": "code",
      "source": [
        "plt.figure(figsize=(12, 6))\n",
        "df_grouped = df.groupby('App')['Sentiment_Polarity'].mean().sort_values(ascending=False).head(10)\n",
        "sns.barplot(x=df_grouped.values, y=df_grouped.index, palette=\"viridis\")\n",
        "plt.title('Top 10 Apps by Average Sentiment Polarity')\n",
        "plt.xlabel('Average Sentiment Polarity')\n",
        "plt.ylabel('App')\n",
        "plt.show()"
      ],
      "metadata": {
        "id": "t6GMdE67YoAp"
      },
      "execution_count": null,
      "outputs": []
    },
    {
      "cell_type": "markdown",
      "source": [
        "##### 1. Why did you pick the specific chart?"
      ],
      "metadata": {
        "id": "fge-S5ZAYoAp"
      }
    },
    {
      "cell_type": "markdown",
      "source": [
        "Average Sentiment Polarity by App Reason: This bar plot was chosen to show the average sentiment polarity for the top 10 apps, allowing for easy comparison of user satisfaction across different apps."
      ],
      "metadata": {
        "id": "5dBItgRVYoAp"
      }
    },
    {
      "cell_type": "markdown",
      "source": [
        "##### 2. What is/are the insight(s) found from the chart?"
      ],
      "metadata": {
        "id": "85gYPyotYoAp"
      }
    },
    {
      "cell_type": "markdown",
      "source": [
        "This bar plot displays the average sentiment polarity for the top 10 apps. It helps in identifying which apps are generally perceived as more positive or negative based on their average sentiment scores."
      ],
      "metadata": {
        "id": "4jstXR6OYoAp"
      }
    },
    {
      "cell_type": "markdown",
      "source": [
        "##### 3. Will the gained insights help creating a positive business impact?\n",
        "Are there any insights that lead to negative growth? Justify with specific reason."
      ],
      "metadata": {
        "id": "RoGjAbkUYoAp"
      }
    },
    {
      "cell_type": "markdown",
      "source": [
        "Understanding which apps have the highest and lowest average sentiment polarity helps prioritize which apps to focus on for improvements or marketing efforts. Apps with high positive sentiment can be promoted more, while those with low sentiment can be improved based on user feedback."
      ],
      "metadata": {
        "id": "zfJ8IqMcYoAp"
      }
    },
    {
      "cell_type": "markdown",
      "source": [
        "#### Chart - 4"
      ],
      "metadata": {
        "id": "4Of9eVA-YrdM"
      }
    },
    {
      "cell_type": "code",
      "source": [
        "positive_reviews = \" \".join(review for review in df[df['Sentiment'] == 'Positive']['Translated_Review'])\n",
        "wordcloud = WordCloud(width=800, height=400, background_color=\"white\").generate(positive_reviews)\n",
        "\n",
        "plt.figure(figsize=(10, 6))\n",
        "plt.imshow(wordcloud, interpolation='bilinear')\n",
        "plt.title('Word Cloud of Positive Reviews')\n",
        "plt.axis(\"off\")\n",
        "plt.show()\n"
      ],
      "metadata": {
        "id": "irlUoxc8YrdO"
      },
      "execution_count": null,
      "outputs": []
    },
    {
      "cell_type": "markdown",
      "source": [
        "##### 1. Why did you pick the specific chart?"
      ],
      "metadata": {
        "id": "iky9q4vBYrdO"
      }
    },
    {
      "cell_type": "markdown",
      "source": [
        "Word clouds are effective for visualizing the most frequently occurring words in a text. This chart was chosen to highlight common themes and keywords in positive reviews, helping you understand what users like."
      ],
      "metadata": {
        "id": "aJRCwT6DYrdO"
      }
    },
    {
      "cell_type": "markdown",
      "source": [
        "##### 2. What is/are the insight(s) found from the chart?"
      ],
      "metadata": {
        "id": "F6T5p64dYrdO"
      }
    },
    {
      "cell_type": "markdown",
      "source": [
        "This word cloud highlights the most frequently occurring words in positive reviews. It can reveal common themes or features praised by users."
      ],
      "metadata": {
        "id": "Xx8WAJvtYrdO"
      }
    },
    {
      "cell_type": "markdown",
      "source": [
        "##### 3. Will the gained insights help creating a positive business impact?\n",
        "Are there any insights that lead to negative growth? Justify with specific reason."
      ],
      "metadata": {
        "id": "y-Ehk30pYrdP"
      }
    },
    {
      "cell_type": "markdown",
      "source": [
        "By identifying common words and themes in positive and negative reviews, businesses can understand what users appreciate and what issues they face. Addressing frequent complaints and enhancing features praised by users can improve overall user satisfaction and retention."
      ],
      "metadata": {
        "id": "jLNxxz7MYrdP"
      }
    },
    {
      "cell_type": "markdown",
      "source": [
        "#### Chart - 5"
      ],
      "metadata": {
        "id": "bamQiAODYuh1"
      }
    },
    {
      "cell_type": "code",
      "source": [
        "negative_reviews = \" \".join(review for review in df[df['Sentiment'] == 'Negative']['Translated_Review'])\n",
        "wordcloud = WordCloud(width=800, height=400, background_color=\"black\", colormap=\"Reds\").generate(negative_reviews)\n",
        "\n",
        "plt.figure(figsize=(10, 6))\n",
        "plt.imshow(wordcloud, interpolation='bilinear')\n",
        "plt.title('Word Cloud of Negative Reviews')\n",
        "plt.axis(\"off\")\n",
        "plt.show()"
      ],
      "metadata": {
        "id": "TIJwrbroYuh3"
      },
      "execution_count": null,
      "outputs": []
    },
    {
      "cell_type": "markdown",
      "source": [
        "##### 1. Why did you pick the specific chart?"
      ],
      "metadata": {
        "id": "QHF8YVU7Yuh3"
      }
    },
    {
      "cell_type": "markdown",
      "source": [
        "Similar to the positive reviews word cloud, this chart was selected to reveal common complaints or negative aspects mentioned by users"
      ],
      "metadata": {
        "id": "dcxuIMRPYuh3"
      }
    },
    {
      "cell_type": "markdown",
      "source": [
        "##### 2. What is/are the insight(s) found from the chart?"
      ],
      "metadata": {
        "id": "GwzvFGzlYuh3"
      }
    },
    {
      "cell_type": "markdown",
      "source": [
        "This word cloud displays the most common words in negative reviews. It helps in identifying recurring issues or complaints mentioned by users"
      ],
      "metadata": {
        "id": "uyqkiB8YYuh3"
      }
    },
    {
      "cell_type": "markdown",
      "source": [
        "##### 3. Will the gained insights help creating a positive business impact?\n",
        "Are there any insights that lead to negative growth? Justify with specific reason."
      ],
      "metadata": {
        "id": "qYpmQ266Yuh3"
      }
    },
    {
      "cell_type": "markdown",
      "source": [
        "Answer Here"
      ],
      "metadata": {
        "id": "_WtzZ_hCYuh4"
      }
    },
    {
      "cell_type": "markdown",
      "source": [
        "By identifying common words and themes in positive and negative reviews, businesses can understand what users appreciate and what issues they face. Addressing frequent complaints and enhancing features praised by users can improve overall user satisfaction and retention"
      ],
      "metadata": {
        "id": "FNMbtkNA6exO"
      }
    },
    {
      "cell_type": "markdown",
      "source": [
        "#### Chart - 6"
      ],
      "metadata": {
        "id": "OH-pJp9IphqM"
      }
    },
    {
      "cell_type": "code",
      "source": [
        "plt.figure(figsize=(10, 6))\n",
        "sns.boxplot(x='Sentiment', y='Sentiment_Polarity', data=df)\n",
        "plt.title('Sentiment Polarity Distribution by Sentiment Type')\n",
        "plt.xlabel('Sentiment')\n",
        "plt.ylabel('Sentiment Polarity')\n",
        "plt.show()"
      ],
      "metadata": {
        "id": "kuRf4wtuphqN"
      },
      "execution_count": null,
      "outputs": []
    },
    {
      "cell_type": "markdown",
      "source": [
        "##### 1. Why did you pick the specific chart?"
      ],
      "metadata": {
        "id": "bbFf2-_FphqN"
      }
    },
    {
      "cell_type": "markdown",
      "source": [
        "Violin Plot: Sentiment Subjectivity by Sentiment Reason: Violin plots combine aspects of box plots and density plots, showing the distribution of the data. This chart was selected to provide a more detailed look at how sentiment subjectivity is distributed across sentiment types."
      ],
      "metadata": {
        "id": "loh7H2nzphqN"
      }
    },
    {
      "cell_type": "markdown",
      "source": [
        "##### 2. What is/are the insight(s) found from the chart?"
      ],
      "metadata": {
        "id": "_ouA3fa0phqN"
      }
    },
    {
      "cell_type": "markdown",
      "source": [
        "This plot reveals the distribution of sentiment subjectivity for different sentiment categories. It shows the density of subjectivity scores and highlights the variability within each sentiment type"
      ],
      "metadata": {
        "id": "VECbqPI7phqN"
      }
    },
    {
      "cell_type": "markdown",
      "source": [
        "##### 3. Will the gained insights help creating a positive business impact?\n",
        "Are there any insights that lead to negative growth? Justify with specific reason."
      ],
      "metadata": {
        "id": "Seke61FWphqN"
      }
    },
    {
      "cell_type": "markdown",
      "source": [
        "If negative reviews are highly subjective, it can indicate that specific issues are being perceived differently by different users. This might complicate pinpointing exact problems and hinder effective solutions. Justification:\n",
        "\n",
        "Impact of Negative Insights: Negative insights, such as high variance in sentiment or persistent negative sentiment in reviews, can lead to a poor user experience, decreased user satisfaction, and potentially loss of users. If these issues are not addressed, they can result in negative growth, affecting both user retention and acquisition"
      ],
      "metadata": {
        "id": "DW4_bGpfphqN"
      }
    },
    {
      "cell_type": "markdown",
      "source": [
        "#### Chart - 7"
      ],
      "metadata": {
        "id": "PIIx-8_IphqN"
      }
    },
    {
      "cell_type": "code",
      "source": [
        "plt.figure(figsize=(10, 6))\n",
        "sns.violinplot(x='Sentiment', y='Sentiment_Subjectivity', data=df)\n",
        "plt.title('Sentiment Subjectivity Distribution by Sentiment Type')\n",
        "plt.xlabel('Sentiment')\n",
        "plt.ylabel('Sentiment Subjectivity')\n",
        "plt.show()"
      ],
      "metadata": {
        "id": "lqAIGUfyphqO"
      },
      "execution_count": null,
      "outputs": []
    },
    {
      "cell_type": "markdown",
      "source": [
        "##### 1. Why did you pick the specific chart?"
      ],
      "metadata": {
        "id": "t27r6nlMphqO"
      }
    },
    {
      "cell_type": "markdown",
      "source": [
        "Box Plot: Sentiment Polarity by Sentiment Reason: Box plots show the distribution of a variable and highlight outliers. This chart helps you see how sentiment polarity varies across different sentiment categories (positive, neutral, negative)."
      ],
      "metadata": {
        "id": "iv6ro40sphqO"
      }
    },
    {
      "cell_type": "markdown",
      "source": [
        "##### 2. What is/are the insight(s) found from the chart?"
      ],
      "metadata": {
        "id": "r2jJGEOYphqO"
      }
    },
    {
      "cell_type": "markdown",
      "source": [
        "The box plot provides an overview of the distribution of sentiment polarity across different sentiment types. It shows the central tendency, spread, and any potential outliers in sentiment scores for positive, negative, and neutral reviews"
      ],
      "metadata": {
        "id": "Po6ZPi4hphqO"
      }
    },
    {
      "cell_type": "markdown",
      "source": [
        "##### 3. Will the gained insights help creating a positive business impact?\n",
        "Are there any insights that lead to negative growth? Justify with specific reason."
      ],
      "metadata": {
        "id": "b0JNsNcRphqO"
      }
    },
    {
      "cell_type": "markdown",
      "source": [
        "Box Plot: Sentiment Polarity by Sentiment: If there is a high variance or a large number of negative outliers, it indicates significant dissatisfaction in specific areas. This can highlight areas needing immediate attention, but if not addressed, it can lead to negative growth."
      ],
      "metadata": {
        "id": "xvSq8iUTphqO"
      }
    },
    {
      "cell_type": "markdown",
      "source": [
        "#### Chart - 8"
      ],
      "metadata": {
        "id": "BZR9WyysphqO"
      }
    },
    {
      "cell_type": "code",
      "source": [
        "# Example with a scatter plot:\n",
        "plt.figure(figsize=(10, 6))\n",
        "sns.scatterplot(x='Sentiment_Polarity', y='Sentiment_Subjectivity', hue='Sentiment', data=df, alpha=0.6)\n",
        "plt.title('Scatter Plot of Polarity and Subjectivity')\n",
        "plt.xlabel('Sentiment Polarity')\n",
        "plt.ylabel('Sentiment Subjectivity')\n",
        "plt.show()\n",
        "\n",
        "# Create a new plot after showing the previous one\n",
        "plt.figure(figsize=(8, 6))\n",
        "# Add your next plot here\n"
      ],
      "metadata": {
        "id": "TdPTWpAVphqO"
      },
      "execution_count": null,
      "outputs": []
    },
    {
      "cell_type": "markdown",
      "source": [
        "##### 1. Why did you pick the specific chart?"
      ],
      "metadata": {
        "id": "jj7wYXLtphqO"
      }
    },
    {
      "cell_type": "markdown",
      "source": [
        "Swarm Plot: Polarity and Subjectivity with Sentiment Reason: Swarm plots are useful for visualizing the distribution of a dataset while avoiding overlap. This chart was chosen to show the exact distribution of sentiment polarity and subjectivity across different sentiment types."
      ],
      "metadata": {
        "id": "Ob8u6rCTphqO"
      }
    },
    {
      "cell_type": "markdown",
      "source": [
        "##### 2. What is/are the insight(s) found from the chart?"
      ],
      "metadata": {
        "id": "eZrbJ2SmphqO"
      }
    },
    {
      "cell_type": "markdown",
      "source": [
        "This swarm plot illustrates the distribution of sentiment polarity and subjectivity for each sentiment type, allowing for the visualization of individual data points and patterns within the data."
      ],
      "metadata": {
        "id": "mZtgC_hjphqO"
      }
    },
    {
      "cell_type": "markdown",
      "source": [
        "##### 3. Will the gained insights help creating a positive business impact?\n",
        "Are there any insights that lead to negative growth? Justify with specific reason."
      ],
      "metadata": {
        "id": "rFu4xreNphqO"
      }
    },
    {
      "cell_type": "markdown",
      "source": [
        "If sentiment polarity is skewed negatively, it indicates overall dissatisfaction. Persistent negative sentiment can drive users away, affecting business growth. High Subjectivity in Negative Reviews"
      ],
      "metadata": {
        "id": "ey_0qi68phqO"
      }
    },
    {
      "cell_type": "markdown",
      "source": [
        "#### Chart - 9"
      ],
      "metadata": {
        "id": "YJ55k-q6phqO"
      }
    },
    {
      "cell_type": "code",
      "source": [
        "sns.pairplot(df, hue='Sentiment', vars=['Sentiment_Polarity', 'Sentiment_Subjectivity'], diag_kind='kde')\n",
        "plt.suptitle('Pair Plot of Sentiment Polarity and Subjectivity', y=1.02)\n",
        "plt.show()"
      ],
      "metadata": {
        "id": "B2aS4O1ophqO"
      },
      "execution_count": null,
      "outputs": []
    },
    {
      "cell_type": "markdown",
      "source": [
        "##### 1. Why did you pick the specific chart?"
      ],
      "metadata": {
        "id": "gCFgpxoyphqP"
      }
    },
    {
      "cell_type": "markdown",
      "source": [
        "Knowing the proportion of positive, negative, and neutral sentiments helps tailor marketing strategies. Positive sentiment can be leveraged in marketing campaigns, while negative sentiment can be addressed proactively"
      ],
      "metadata": {
        "id": "TVxDimi2phqP"
      }
    },
    {
      "cell_type": "markdown",
      "source": [
        "##### 2. What is/are the insight(s) found from the chart?"
      ],
      "metadata": {
        "id": "OVtJsKN_phqQ"
      }
    },
    {
      "cell_type": "markdown",
      "source": [
        "This scatter plot illustrates the relationship between sentiment polarity (degree of positivity or negativity) and subjectivity (how subjective or objective a review is). It helps in understanding whether more subjective reviews tend to be more extreme (positive or negative) or if there's a pattern in the distribution of sentiment scores."
      ],
      "metadata": {
        "id": "ngGi97qjphqQ"
      }
    },
    {
      "cell_type": "markdown",
      "source": [
        "##### 3. Will the gained insights help creating a positive business impact?\n",
        "Are there any insights that lead to negative growth? Justify with specific reason."
      ],
      "metadata": {
        "id": "lssrdh5qphqQ"
      }
    },
    {
      "cell_type": "markdown",
      "source": [
        "Insights from these plots can guide product development teams on whether to focus on enhancing features or improving user experience based on the observed sentiment patterns"
      ],
      "metadata": {
        "id": "tBpY5ekJphqQ"
      }
    },
    {
      "cell_type": "markdown",
      "source": [
        "#### Chart - 10"
      ],
      "metadata": {
        "id": "U2RJ9gkRphqQ"
      }
    },
    {
      "cell_type": "code",
      "source": [
        "plt.figure(figsize=(10, 6))\n",
        "sns.stripplot(x='Sentiment', y='Sentiment_Polarity', data=df, jitter=True)\n",
        "plt.title('Strip Plot of Sentiment Polarity by Sentiment Type')\n",
        "plt.xlabel('Sentiment')\n",
        "plt.ylabel('Sentiment Polarity')\n",
        "plt.show()"
      ],
      "metadata": {
        "id": "GM7a4YP4phqQ"
      },
      "execution_count": null,
      "outputs": []
    },
    {
      "cell_type": "markdown",
      "source": [
        "##### 1. Why did you pick the specific chart?"
      ],
      "metadata": {
        "id": "1M8mcRywphqQ"
      }
    },
    {
      "cell_type": "markdown",
      "source": [
        "Box Plot: Sentiment Polarity by Sentiment: If there is a high variance or a large number of negative outliers, it indicates significant dissatisfaction in specific areas. This can highlight areas needing immediate attention, but if not addressed, it can lead to negative growth"
      ],
      "metadata": {
        "id": "8agQvks0phqQ"
      }
    },
    {
      "cell_type": "markdown",
      "source": [
        "##### 2. What is/are the insight(s) found from the chart?"
      ],
      "metadata": {
        "id": "tgIPom80phqQ"
      }
    },
    {
      "cell_type": "markdown",
      "source": [
        "Box Plot: Sentiment Polarity by Sentiment\n",
        "\n",
        "Insight: The box plot provides an overview of the distribution of sentiment polarity across different sentiment types. It shows the central tendency, spread, and any potential outliers in sentiment scores for positive, negative, and neutral reviews"
      ],
      "metadata": {
        "id": "Qp13pnNzphqQ"
      }
    },
    {
      "cell_type": "markdown",
      "source": [
        "##### 3. Will the gained insights help creating a positive business impact?\n",
        "Are there any insights that lead to negative growth? Justify with specific reason."
      ],
      "metadata": {
        "id": "JMzcOPDDphqR"
      }
    },
    {
      "cell_type": "markdown",
      "source": [
        "Box Plot: Sentiment Polarity by Sentiment: If there is a high variance or a large number of negative outliers, it indicates significant dissatisfaction in specific areas. This can highlight areas needing immediate attention, but if not addressed, it can lead to negative growth."
      ],
      "metadata": {
        "id": "R4Ka1PC2phqR"
      }
    },
    {
      "cell_type": "markdown",
      "source": [
        "#### Chart - 11"
      ],
      "metadata": {
        "id": "x-EpHcCOp1ci"
      }
    },
    {
      "cell_type": "code",
      "source": [
        "plt.figure(figsize=(10, 6))\n",
        "sns.histplot(df['Sentiment_Polarity'], bins=20, kde=True)\n",
        "plt.title('Distribution of Sentiment Polarity')\n",
        "plt.xlabel('Sentiment Polarity')\n",
        "plt.ylabel('Frequency')\n",
        "plt.show()"
      ],
      "metadata": {
        "id": "mAQTIvtqp1cj"
      },
      "execution_count": null,
      "outputs": []
    },
    {
      "cell_type": "markdown",
      "source": [
        "##### 1. Why did you pick the specific chart?"
      ],
      "metadata": {
        "id": "X_VqEhTip1ck"
      }
    },
    {
      "cell_type": "markdown",
      "source": [
        "Sentiment Distribution (Pie Chart): Knowing the proportion of positive, negative, and neutral sentiments helps tailor marketing strategies. Positive sentiment can be leveraged in marketing campaigns, while negative sentiment can be addressed proactively."
      ],
      "metadata": {
        "id": "-vsMzt_np1ck"
      }
    },
    {
      "cell_type": "markdown",
      "source": [
        "##### 2. What is/are the insight(s) found from the chart?"
      ],
      "metadata": {
        "id": "8zGJKyg5p1ck"
      }
    },
    {
      "cell_type": "markdown",
      "source": [
        "Pie Chart: Sentiment Distribution\n",
        "\n",
        "Insight: The pie chart illustrates the proportion of each sentiment type (Positive, Negative, Neutral) in the dataset. It provides a quick overview of the overall sentiment distribution among the reviews."
      ],
      "metadata": {
        "id": "ZYdMsrqVp1ck"
      }
    },
    {
      "cell_type": "markdown",
      "source": [
        "##### 3. Will the gained insights help creating a positive business impact?\n",
        "Are there any insights that lead to negative growth? Justify with specific reason."
      ],
      "metadata": {
        "id": "PVzmfK_Ep1ck"
      }
    },
    {
      "cell_type": "markdown",
      "source": [
        "Answer Here"
      ],
      "metadata": {
        "id": "druuKYZpp1ck"
      }
    },
    {
      "cell_type": "markdown",
      "source": [
        "#### Chart - 12"
      ],
      "metadata": {
        "id": "n3dbpmDWp1ck"
      }
    },
    {
      "cell_type": "code",
      "source": [
        "plt.figure(figsize=(10, 6))\n",
        "sns.kdeplot(df[df['Sentiment'] == 'Positive']['Sentiment_Polarity'], label='Positive', shade=True)\n",
        "sns.kdeplot(df[df['Sentiment'] == 'Negative']['Sentiment_Polarity'], label='Negative', shade=True)\n",
        "sns.kdeplot(df[df['Sentiment'] == 'Neutral']['Sentiment_Polarity'], label='Neutral', shade=True)\n",
        "plt.title('KDE Plot of Sentiment Polarity by Sentiment Type')\n",
        "plt.xlabel('Sentiment Polarity')\n",
        "plt.ylabel('Density')\n",
        "plt.legend()\n",
        "plt.show()"
      ],
      "metadata": {
        "id": "bwevp1tKp1ck"
      },
      "execution_count": null,
      "outputs": []
    },
    {
      "cell_type": "markdown",
      "source": [
        "##### 1. Why did you pick the specific chart?"
      ],
      "metadata": {
        "id": "ylSl6qgtp1ck"
      }
    },
    {
      "cell_type": "markdown",
      "source": [
        "Histogram and KDE Plot: If sentiment polarity is skewed negatively, it indicates overall dissatisfaction. Persistent negative sentiment can drive users away, affecting business growth."
      ],
      "metadata": {
        "id": "m2xqNkiQp1ck"
      }
    },
    {
      "cell_type": "markdown",
      "source": [
        "##### 2. What is/are the insight(s) found from the chart?"
      ],
      "metadata": {
        "id": "ZWILFDl5p1ck"
      }
    },
    {
      "cell_type": "markdown",
      "source": [
        "KDE Plot: Sentiment Polarity by Sentiment\n",
        "\n",
        "Insight: The KDE plot provides a smoothed density estimate of sentiment polarity for each sentiment type. It helps in visualizing the probability distribution of sentiment scores and identifying overlaps or differences between sentiment categories"
      ],
      "metadata": {
        "id": "x-lUsV2mp1ck"
      }
    },
    {
      "cell_type": "markdown",
      "source": [
        "##### 3. Will the gained insights help creating a positive business impact?\n",
        "Are there any insights that lead to negative growth? Justify with specific reason."
      ],
      "metadata": {
        "id": "M7G43BXep1ck"
      }
    },
    {
      "cell_type": "markdown",
      "source": [
        "Histogram and KDE Plot: If sentiment polarity is skewed negatively, it indicates overall dissatisfaction. Persistent negative sentiment can drive users away, affecting business growth."
      ],
      "metadata": {
        "id": "5wwDJXsLp1cl"
      }
    },
    {
      "cell_type": "markdown",
      "source": [
        "#### Chart - 13"
      ],
      "metadata": {
        "id": "Ag9LCva-p1cl"
      }
    },
    {
      "cell_type": "code",
      "source": [
        "g = sns.FacetGrid(df, col=\"Sentiment\", height=5)\n",
        "g.map(sns.scatterplot, \"Sentiment_Polarity\", \"Sentiment_Subjectivity\")\n",
        "g.add_legend()\n",
        "plt.suptitle('Sentiment Polarity vs Subjectivity by Sentiment Type', y=1.05)\n",
        "plt.show()"
      ],
      "metadata": {
        "id": "EUfxeq9-p1cl"
      },
      "execution_count": null,
      "outputs": []
    },
    {
      "cell_type": "markdown",
      "source": [
        "##### 1. Why did you pick the specific chart?"
      ],
      "metadata": {
        "id": "E6MkPsBcp1cl"
      }
    },
    {
      "cell_type": "markdown",
      "source": [
        "Scatter Plots (Sentiment Polarity vs. Subjectivity): Insights from these plots can guide product development teams on whether to focus on enhancing features or improving user experience based on the observed sentiment patterns"
      ],
      "metadata": {
        "id": "V22bRsFWp1cl"
      }
    },
    {
      "cell_type": "markdown",
      "source": [
        "##### 2. What is/are the insight(s) found from the chart?"
      ],
      "metadata": {
        "id": "2cELzS2fp1cl"
      }
    },
    {
      "cell_type": "markdown",
      "source": [
        "Scatter Plot: Sentiment Polarity vs Subjectivity\n",
        "\n",
        "Insight: This scatter plot illustrates the relationship between sentiment polarity (degree of positivity or negativity) and subjectivity (how subjective or objective a review is). It helps in understanding whether more subjective reviews tend to be more extreme (positive or negative) or if there's a pattern in the distribution of sentiment scores."
      ],
      "metadata": {
        "id": "ozQPc2_Ip1cl"
      }
    },
    {
      "cell_type": "markdown",
      "source": [
        "##### 3. Will the gained insights help creating a positive business impact?\n",
        "Are there any insights that lead to negative growth? Justify with specific reason."
      ],
      "metadata": {
        "id": "3MPXvC8up1cl"
      }
    },
    {
      "cell_type": "markdown",
      "source": [
        "Product Development:\n",
        "\n",
        "Scatter Plots (Sentiment Polarity vs. Subjectivity): Insights from these plots can guide product development teams on whether to focus on enhancing features or improving user experience based on the observed sentiment patterns"
      ],
      "metadata": {
        "id": "GL8l1tdLp1cl"
      }
    },
    {
      "cell_type": "markdown",
      "source": [
        "#### Chart - 14 - Correlation Heatmap"
      ],
      "metadata": {
        "id": "NC_X3p0fY2L0"
      }
    },
    {
      "cell_type": "code",
      "source": [
        "import seaborn as sns\n",
        "import matplotlib.pyplot as plt\n",
        "\n",
        "# Calculate the correlation matrix for numerical columns\n",
        "corr_matrix = df[['Sentiment_Polarity', 'Sentiment_Subjectivity']].corr()\n",
        "\n",
        "# Plot the heatmap\n",
        "plt.figure(figsize=(8, 6))\n",
        "sns.heatmap(corr_matrix, annot=True, cmap='coolwarm', vmin=-1, vmax=1)\n",
        "plt.title('Correlation Heatmap of Sentiment Polarity and Subjectivity')\n",
        "plt.show()\n"
      ],
      "metadata": {
        "id": "xyC9zolEZNRQ"
      },
      "execution_count": null,
      "outputs": []
    },
    {
      "cell_type": "markdown",
      "source": [
        "##### 1. Why did you pick the specific chart?"
      ],
      "metadata": {
        "id": "UV0SzAkaZNRQ"
      }
    },
    {
      "cell_type": "markdown",
      "source": [
        "Average Sentiment Polarity by App Reason: This bar plot was chosen to show the average sentiment polarity for the top 10 apps, allowing for easy comparison of user satisfaction across different apps"
      ],
      "metadata": {
        "id": "DVPuT8LYZNRQ"
      }
    },
    {
      "cell_type": "markdown",
      "source": [
        "##### 2. What is/are the insight(s) found from the chart?"
      ],
      "metadata": {
        "id": "YPEH6qLeZNRQ"
      }
    },
    {
      "cell_type": "markdown",
      "source": [
        "This bar plot displays the average sentiment polarity for the top 10 apps. It helps in identifying which apps are generally perceived as more positive or negative based on their average sentiment scores"
      ],
      "metadata": {
        "id": "bfSqtnDqZNRR"
      }
    },
    {
      "cell_type": "markdown",
      "source": [
        "#### Chart - 15 - Pair Plot"
      ],
      "metadata": {
        "id": "q29F0dvdveiT"
      }
    },
    {
      "cell_type": "code",
      "source": [
        "sns.pairplot(df, hue='Sentiment', vars=['Sentiment_Polarity', 'Sentiment_Subjectivity'], diag_kind='kde')\n",
        "plt.suptitle('Pair Plot of Sentiment Polarity and Subjectivity', y=1.02)\n",
        "plt.show()"
      ],
      "metadata": {
        "id": "o58-TEIhveiU"
      },
      "execution_count": null,
      "outputs": []
    },
    {
      "cell_type": "markdown",
      "source": [
        "##### 1. Why did you pick the specific chart?"
      ],
      "metadata": {
        "id": "EXh0U9oCveiU"
      }
    },
    {
      "cell_type": "markdown",
      "source": [
        "Sentiment Distribution Reason: Pie charts provide a quick visual of proportions within a dataset. This chart was selected to give a high-level overview of the overall sentiment distribution in the dataset. Each of these charts provides a unique perspective on the data, allowing you to explore various aspects and uncover different insights"
      ],
      "metadata": {
        "id": "eMmPjTByveiU"
      }
    },
    {
      "cell_type": "markdown",
      "source": [
        "##### 2. What is/are the insight(s) found from the chart?"
      ],
      "metadata": {
        "id": "22aHeOlLveiV"
      }
    },
    {
      "cell_type": "markdown",
      "source": [
        "The pie chart illustrates the proportion of each sentiment type (Positive, Negative, Neutral) in the dataset. It provides a quick overview of the overall sentiment distribution among the reviews."
      ],
      "metadata": {
        "id": "uPQ8RGwHveiV"
      }
    },
    {
      "cell_type": "markdown",
      "source": [
        "## **5. Solution to Business Objective**"
      ],
      "metadata": {
        "id": "JcMwzZxoAimU"
      }
    },
    {
      "cell_type": "markdown",
      "source": [
        "#### What do you suggest the client to achieve Business Objective ?\n",
        "Explain Briefly."
      ],
      "metadata": {
        "id": "8G2x9gOozGDZ"
      }
    },
    {
      "cell_type": "markdown",
      "source": [
        "To achieve business objectives based on the sentiment analysis insights, here’s a brief strategy\n",
        "1. Enhance User Experience\n",
        "Action: Address common complaints and issues identified from negative reviews.\n",
        "Objective: Improve user satisfaction and reduce negative sentiment by making product or service adjustments based on user feedback.\n",
        "2. Leverage Positive Feedback\n",
        "Action: Highlight features or aspects praised in positive reviews in marketing campaigns and product promotions.\n",
        "Objective: Increase user acquisition and brand loyalty by showcasing strengths and positive user experiences.\n",
        "3. Prioritize Product Improvements\n",
        "Action: Focus on features or apps with low average sentiment scores for improvements.\n",
        "Objective: Increase overall user satisfaction and positive sentiment by refining and enhancing areas of weakness.\n",
        "4. Implement Targeted Marketing Strategies\n",
        "Action: Use sentiment distribution insights to tailor marketing strategies, such as promoting apps with high positive sentiment and addressing concerns related to apps with negative sentiment.\n",
        "Objective: Optimize marketing efforts and resource allocation to maximize impact and engagement.\n",
        "5. Monitor and Adapt\n",
        "Action: Continuously monitor sentiment trends and user feedback to adapt strategies in real-time.\n",
        "Objective: Stay responsive to user needs and preferences, ensuring ongoing alignment with business objectives and market demands.\n",
        "\n",
        "Summary\n",
        "\n",
        "Address Issues: Tackle negative feedback to enhance user experience and satisfaction.\n",
        "\n",
        "Promote Strengths: Use positive feedback to drive marketing and brand positioning.\n",
        "\n",
        "Focus on Improvements: Prioritize enhancements based on user sentiment to boost overall performance.\n",
        "\n",
        "Adapt Strategies: Regularly update strategies based on current sentiment trends to remain competitive and aligned with user expectations.\n",
        "\n",
        "By integrating these actions into a comprehensive strategy, the client can achieve their business objectives, enhance user satisfaction, and drive positive growth."
      ],
      "metadata": {
        "id": "pASKb0qOza21"
      }
    },
    {
      "cell_type": "markdown",
      "source": [
        "# **Conclusion**"
      ],
      "metadata": {
        "id": "gCX9965dhzqZ"
      }
    },
    {
      "cell_type": "markdown",
      "source": [
        "Utilizing insights from sentiment analysis can significantly advance a business's objectives by strategically addressing both positive and negative feedback. By enhancing user experience through targeted improvements, leveraging positive sentiment in marketing efforts, and continuously adapting strategies based on real-time feedback, businesses can achieve greater user satisfaction and drive growth.\n",
        "\n",
        "Addressing common issues identified from negative reviews ensures that user dissatisfaction is minimized, while promoting features highlighted in positive feedback can boost brand loyalty and attract new users. Regular monitoring and adaptation of strategies based on sentiment trends will keep the business responsive to user needs and market dynamics. Implementing these strategies effectively will lead to improved user engagement, increased retention, and overall positive business growth."
      ],
      "metadata": {
        "id": "Fjb1IsQkh3yE"
      }
    },
    {
      "cell_type": "markdown",
      "source": [
        "### ***Hurrah! You have successfully completed your EDA Capstone Project !!!***"
      ],
      "metadata": {
        "id": "gIfDvo9L0UH2"
      }
    }
  ]
}